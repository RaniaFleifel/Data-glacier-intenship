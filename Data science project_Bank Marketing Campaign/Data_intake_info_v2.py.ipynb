{
 "cells": [
  {
   "cell_type": "code",
   "execution_count": 2,
   "metadata": {},
   "outputs": [],
   "source": [
    "import pandas as pd;\n",
    "import os\n",
    "path='D:/RaniaTarek_JobJourney/Courses content/Data glacier internship/submitted/Data science project_Bank Marketing Campaign/'\n",
    "files=['bank-additional-full.csv','bank-full.csv','bank-additional.csv','bank.csv']\n"
   ]
  },
  {
   "cell_type": "code",
   "execution_count": 43,
   "metadata": {},
   "outputs": [
    {
     "name": "stdout",
     "output_type": "stream",
     "text": [
      "\n",
      "Information about bank-additional-full.csv\n",
      "Number of columns= 22 \n",
      "Size of file= 5698 KB\n",
      "Number of duplicated entries= 12\n",
      "12 duplicates found and deleted\n",
      "Number of unique entries= 41176.0\n",
      "Columns names are ['age', 'job', 'marital', 'education', 'default', 'housing', 'loan', 'contact', 'month', 'day_of_week', 'duration', 'campaign', 'pdays', 'previous', 'poutcome', 'emp.var.rate', 'cons.price.idx', 'cons.conf.idx', 'euribor3m', 'nr.employed', 'y', 'filename']\n",
      "##############################################################\n",
      "\n",
      "Information about bank-full.csv\n",
      "Number of columns= 18 \n",
      "Size of file= 4502 KB\n",
      "Number of duplicated entries= 0\n",
      "Number of unique entries= 45211.0\n",
      "Columns names are ['age', 'job', 'marital', 'education', 'default', 'balance', 'housing', 'loan', 'contact', 'day', 'month', 'duration', 'campaign', 'pdays', 'previous', 'poutcome', 'y', 'filename']\n",
      "##############################################################\n",
      "\n",
      "Information about bank-additional.csv\n",
      "Number of columns= 22 \n",
      "Size of file= 570 KB\n",
      "Number of duplicated entries= 0\n",
      "Number of unique entries= 4119.0\n",
      "Columns names are ['age', 'job', 'marital', 'education', 'default', 'housing', 'loan', 'contact', 'month', 'day_of_week', 'duration', 'campaign', 'pdays', 'previous', 'poutcome', 'emp.var.rate', 'cons.price.idx', 'cons.conf.idx', 'euribor3m', 'nr.employed', 'y', 'filename']\n",
      "##############################################################\n",
      "\n",
      "Information about bank.csv\n",
      "Number of columns= 18 \n",
      "Size of file= 451 KB\n",
      "Number of duplicated entries= 0\n",
      "Number of unique entries= 4521.0\n",
      "Columns names are ['age', 'job', 'marital', 'education', 'default', 'balance', 'housing', 'loan', 'contact', 'day', 'month', 'duration', 'campaign', 'pdays', 'previous', 'poutcome', 'y', 'filename']\n",
      "##############################################################\n"
     ]
    }
   ],
   "source": [
    "dfs=[]\n",
    "for file_name in files:\n",
    "    \n",
    "    file=path+file_name\n",
    "    \n",
    "    df_current=pd.read_csv(file,delimiter=';');\n",
    "    df_current['filename']=file_name.split()\n",
    "    num_columns=len(df_current.columns.tolist())\n",
    "    column_names=df_current.columns.tolist()\n",
    "    print('\\nInformation about',file_name)\n",
    "\n",
    "    print('Number of columns= {} '.format(num_columns));\n",
    "\n",
    "    print('Size of file= {} KB'.format(round(os.stat(file).st_size/1024),2));\n",
    "\n",
    "    print('Number of duplicated entries= {}'.format(sum(df_current.duplicated())));\n",
    "    if sum(df_current.duplicated()!=0):\n",
    "        print('{} duplicates found and deleted'.format(sum(df_current.duplicated())))\n",
    "        df_current=df_current.drop_duplicates()\n",
    "\n",
    "    dfs.append(df_current)\n",
    "    print('Number of unique entries= {}'.format(df_current.size/num_columns));\n",
    "\n",
    "    \n",
    "    print('Columns names are {}\\n##############################################################'.format(column_names));\n",
    "\n"
   ]
  }
 ],
 "metadata": {
  "kernelspec": {
   "display_name": "Python 3",
   "language": "python",
   "name": "python3"
  },
  "language_info": {
   "codemirror_mode": {
    "name": "ipython",
    "version": 3
   },
   "file_extension": ".py",
   "mimetype": "text/x-python",
   "name": "python",
   "nbconvert_exporter": "python",
   "pygments_lexer": "ipython3",
   "version": "3.7.4"
  }
 },
 "nbformat": 4,
 "nbformat_minor": 2
}
